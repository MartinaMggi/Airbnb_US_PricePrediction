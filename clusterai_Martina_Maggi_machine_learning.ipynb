{
 "cells": [
  {
   "cell_type": "markdown",
   "metadata": {
    "id": "0nkNRu81xrJ3"
   },
   "source": [
    "# Importamos las librerías"
   ]
  },
  {
   "cell_type": "code",
   "execution_count": null,
   "metadata": {
    "id": "BhGRfUgmpxeE"
   },
   "outputs": [],
   "source": [
    "# Importo librerías de maniupulación de datos\n",
    "import pandas as pd\n",
    "import numpy as np\n",
    "import seaborn as sns\n",
    "import matplotlib.pyplot as plt\n",
    "import gdown"
   ]
  },
  {
   "cell_type": "code",
   "execution_count": null,
   "metadata": {
    "id": "35gTtK7Op7JU"
   },
   "outputs": [],
   "source": [
    "# Importo librerías de Aprendizaje automático\n",
    "from sklearn import preprocessing\n",
    "from sklearn import svm,datasets\n",
    "from sklearn import linear_model\n",
    "from sklearn.model_selection import train_test_split, cross_val_score\n",
    "from sklearn.metrics import r2_score\n",
    "from sklearn.utils import shuffle\n",
    "from sklearn.preprocessing import StandardScaler\n",
    "from sklearn import preprocessing\n",
    "from sklearn.preprocessing import LabelEncoder\n",
    "from sklearn.linear_model import LinearRegression\n",
    "from sklearn.svm import SVR, LinearSVR\n",
    "from sklearn.metrics import make_scorer\n",
    "from sklearn.model_selection import GridSearchCV\n",
    "from sklearn.pipeline import make_pipeline\n",
    "from sklearn.metrics import mean_squared_error\n",
    "from sklearn.svm import SVR, LinearSVR\n",
    "from sklearn.model_selection import GridSearchCV\n",
    "from sklearn.model_selection import train_test_split\n",
    "from sklearn.preprocessing import StandardScaler, OneHotEncoder\n",
    "from sklearn.decomposition import PCA\n",
    "from sklearn.impute import SimpleImputer\n",
    "from sklearn.compose import ColumnTransformer\n",
    "from sklearn.pipeline import Pipeline\n",
    "from sklearn.ensemble import RandomForestRegressor\n",
    "from sklearn.metrics import mean_squared_error, r2_score"
   ]
  },
  {
   "cell_type": "markdown",
   "metadata": {
    "id": "C0s28rkBxyfZ"
   },
   "source": [
    "# Importamos el dataframe"
   ]
  },
  {
   "cell_type": "code",
   "execution_count": null,
   "metadata": {
    "colab": {
     "base_uri": "https://localhost:8080/",
     "height": 103
    },
    "id": "uEIatWmjx3z9",
    "outputId": "34d0b4a3-df80-49f2-f666-beb7069522d4"
   },
   "outputs": [
    {
     "name": "stderr",
     "output_type": "stream",
     "text": [
      "Downloading...\n",
      "From: https://drive.google.com/uc?id=1vDHW4y5QpsMOaXq07VM_6kRrWSaOIFl5\n",
      "To: /content/airbnb-us_EDA.csv\n",
      "100%|██████████| 27.9M/27.9M [00:00<00:00, 58.4MB/s]\n"
     ]
    },
    {
     "data": {
      "application/vnd.google.colaboratory.intrinsic+json": {
       "type": "string"
      },
      "text/plain": [
       "'airbnb-us_EDA.csv'"
      ]
     },
     "execution_count": 206,
     "metadata": {},
     "output_type": "execute_result"
    }
   ],
   "source": [
    "#Importamos el archivo 'airbnb_us', en base al cual realizaremos el análisis.\n",
    "\n",
    "file_id = '1vDHW4y5QpsMOaXq07VM_6kRrWSaOIFl5'  # Creamos un File ID\n",
    "file_name = 'airbnb-us_EDA.csv' # Nombramos el archivo\n",
    "gdown.download(f'https://drive.google.com/uc?id={file_id}', file_name, quiet=False)"
   ]
  },
  {
   "cell_type": "code",
   "execution_count": null,
   "metadata": {
    "colab": {
     "base_uri": "https://localhost:8080/",
     "height": 457
    },
    "id": "3yMiEvksyNXJ",
    "outputId": "0e490a04-bf3e-4177-8e86-75b15a21e855"
   },
   "outputs": [
    {
     "name": "stdout",
     "output_type": "stream",
     "text": [
      "np.shape --> (17866, 79)\n",
      "Filas: 17866\n",
      "Columnas: 79\n",
      "Output de \".head(5)\": \n"
     ]
    },
    {
     "name": "stderr",
     "output_type": "stream",
     "text": [
      "<ipython-input-207-bff03ed94352>:2: DtypeWarning: Columns (19) have mixed types. Specify dtype option on import or set low_memory=False.\n",
      "  airbnb_ML_df = pd.read_csv('airbnb-us_EDA.csv')\n"
     ]
    },
    {
     "data": {
      "application/vnd.google.colaboratory.intrinsic+json": {
       "type": "dataframe",
       "variable_name": "airbnb_ML_df"
      },
      "text/html": [
       "\n",
       "  <div id=\"df-065e4f92-0c44-4f60-a641-a5d323da3d00\" class=\"colab-df-container\">\n",
       "    <div>\n",
       "<style scoped>\n",
       "    .dataframe tbody tr th:only-of-type {\n",
       "        vertical-align: middle;\n",
       "    }\n",
       "\n",
       "    .dataframe tbody tr th {\n",
       "        vertical-align: top;\n",
       "    }\n",
       "\n",
       "    .dataframe thead th {\n",
       "        text-align: right;\n",
       "    }\n",
       "</style>\n",
       "<table border=\"1\" class=\"dataframe\">\n",
       "  <thead>\n",
       "    <tr style=\"text-align: right;\">\n",
       "      <th></th>\n",
       "      <th>id</th>\n",
       "      <th>property_type</th>\n",
       "      <th>room_type</th>\n",
       "      <th>amenities</th>\n",
       "      <th>accommodates</th>\n",
       "      <th>bathrooms</th>\n",
       "      <th>bed_type</th>\n",
       "      <th>cancellation_policy</th>\n",
       "      <th>cleaning_fee</th>\n",
       "      <th>city</th>\n",
       "      <th>...</th>\n",
       "      <th>Air / Heating</th>\n",
       "      <th>EV charger</th>\n",
       "      <th>Smoking</th>\n",
       "      <th>Pet Friendly</th>\n",
       "      <th>Work</th>\n",
       "      <th>Internet</th>\n",
       "      <th>Accesibility</th>\n",
       "      <th>Coastal</th>\n",
       "      <th>Essentials</th>\n",
       "      <th>Room essentials</th>\n",
       "    </tr>\n",
       "  </thead>\n",
       "  <tbody>\n",
       "    <tr>\n",
       "      <th>0</th>\n",
       "      <td>3808709</td>\n",
       "      <td>Apartment</td>\n",
       "      <td>Entire home/apt</td>\n",
       "      <td>{TV,Internet,\"Internet\",\"Air / Air / Heating\",...</td>\n",
       "      <td>2</td>\n",
       "      <td>1.0</td>\n",
       "      <td>Real Bed</td>\n",
       "      <td>moderate</td>\n",
       "      <td>True</td>\n",
       "      <td>DC</td>\n",
       "      <td>...</td>\n",
       "      <td>True</td>\n",
       "      <td>False</td>\n",
       "      <td>False</td>\n",
       "      <td>False</td>\n",
       "      <td>False</td>\n",
       "      <td>True</td>\n",
       "      <td>True</td>\n",
       "      <td>False</td>\n",
       "      <td>True</td>\n",
       "      <td>False</td>\n",
       "    </tr>\n",
       "    <tr>\n",
       "      <th>1</th>\n",
       "      <td>12422935</td>\n",
       "      <td>Apartment</td>\n",
       "      <td>Private room</td>\n",
       "      <td>{TV,\"Internet\",Air / Heating,\"Safety\",\"Safety\"...</td>\n",
       "      <td>2</td>\n",
       "      <td>1.0</td>\n",
       "      <td>Real Bed</td>\n",
       "      <td>strict</td>\n",
       "      <td>True</td>\n",
       "      <td>SF</td>\n",
       "      <td>...</td>\n",
       "      <td>True</td>\n",
       "      <td>False</td>\n",
       "      <td>False</td>\n",
       "      <td>False</td>\n",
       "      <td>True</td>\n",
       "      <td>True</td>\n",
       "      <td>False</td>\n",
       "      <td>False</td>\n",
       "      <td>True</td>\n",
       "      <td>True</td>\n",
       "    </tr>\n",
       "    <tr>\n",
       "      <th>2</th>\n",
       "      <td>180792</td>\n",
       "      <td>House</td>\n",
       "      <td>Private room</td>\n",
       "      <td>{TV,\"TV\",\"Internet\",\"Pet Friendly\",Pet Friendl...</td>\n",
       "      <td>2</td>\n",
       "      <td>1.0</td>\n",
       "      <td>Real Bed</td>\n",
       "      <td>moderate</td>\n",
       "      <td>True</td>\n",
       "      <td>SF</td>\n",
       "      <td>...</td>\n",
       "      <td>True</td>\n",
       "      <td>False</td>\n",
       "      <td>False</td>\n",
       "      <td>True</td>\n",
       "      <td>False</td>\n",
       "      <td>True</td>\n",
       "      <td>False</td>\n",
       "      <td>False</td>\n",
       "      <td>True</td>\n",
       "      <td>True</td>\n",
       "    </tr>\n",
       "    <tr>\n",
       "      <th>3</th>\n",
       "      <td>2658946</td>\n",
       "      <td>Apartment</td>\n",
       "      <td>Entire home/apt</td>\n",
       "      <td>{TV,\"TV\",Internet,\"Internet\",\"Air / Air / Heat...</td>\n",
       "      <td>6</td>\n",
       "      <td>1.5</td>\n",
       "      <td>Real Bed</td>\n",
       "      <td>strict</td>\n",
       "      <td>True</td>\n",
       "      <td>DC</td>\n",
       "      <td>...</td>\n",
       "      <td>True</td>\n",
       "      <td>False</td>\n",
       "      <td>False</td>\n",
       "      <td>False</td>\n",
       "      <td>True</td>\n",
       "      <td>True</td>\n",
       "      <td>False</td>\n",
       "      <td>False</td>\n",
       "      <td>True</td>\n",
       "      <td>True</td>\n",
       "    </tr>\n",
       "    <tr>\n",
       "      <th>4</th>\n",
       "      <td>6226658</td>\n",
       "      <td>Apartment</td>\n",
       "      <td>Private room</td>\n",
       "      <td>{Internet,\"Internet\",\"Air / Air / Heating\",Kit...</td>\n",
       "      <td>2</td>\n",
       "      <td>1.5</td>\n",
       "      <td>Real Bed</td>\n",
       "      <td>moderate</td>\n",
       "      <td>True</td>\n",
       "      <td>Chicago</td>\n",
       "      <td>...</td>\n",
       "      <td>True</td>\n",
       "      <td>False</td>\n",
       "      <td>False</td>\n",
       "      <td>False</td>\n",
       "      <td>True</td>\n",
       "      <td>True</td>\n",
       "      <td>False</td>\n",
       "      <td>False</td>\n",
       "      <td>True</td>\n",
       "      <td>True</td>\n",
       "    </tr>\n",
       "  </tbody>\n",
       "</table>\n",
       "<p>5 rows × 79 columns</p>\n",
       "</div>\n",
       "    <div class=\"colab-df-buttons\">\n",
       "\n",
       "  <div class=\"colab-df-container\">\n",
       "    <button class=\"colab-df-convert\" onclick=\"convertToInteractive('df-065e4f92-0c44-4f60-a641-a5d323da3d00')\"\n",
       "            title=\"Convert this dataframe to an interactive table.\"\n",
       "            style=\"display:none;\">\n",
       "\n",
       "  <svg xmlns=\"http://www.w3.org/2000/svg\" height=\"24px\" viewBox=\"0 -960 960 960\">\n",
       "    <path d=\"M120-120v-720h720v720H120Zm60-500h600v-160H180v160Zm220 220h160v-160H400v160Zm0 220h160v-160H400v160ZM180-400h160v-160H180v160Zm440 0h160v-160H620v160ZM180-180h160v-160H180v160Zm440 0h160v-160H620v160Z\"/>\n",
       "  </svg>\n",
       "    </button>\n",
       "\n",
       "  <style>\n",
       "    .colab-df-container {\n",
       "      display:flex;\n",
       "      gap: 12px;\n",
       "    }\n",
       "\n",
       "    .colab-df-convert {\n",
       "      background-color: #E8F0FE;\n",
       "      border: none;\n",
       "      border-radius: 50%;\n",
       "      cursor: pointer;\n",
       "      display: none;\n",
       "      fill: #1967D2;\n",
       "      height: 32px;\n",
       "      padding: 0 0 0 0;\n",
       "      width: 32px;\n",
       "    }\n",
       "\n",
       "    .colab-df-convert:hover {\n",
       "      background-color: #E2EBFA;\n",
       "      box-shadow: 0px 1px 2px rgba(60, 64, 67, 0.3), 0px 1px 3px 1px rgba(60, 64, 67, 0.15);\n",
       "      fill: #174EA6;\n",
       "    }\n",
       "\n",
       "    .colab-df-buttons div {\n",
       "      margin-bottom: 4px;\n",
       "    }\n",
       "\n",
       "    [theme=dark] .colab-df-convert {\n",
       "      background-color: #3B4455;\n",
       "      fill: #D2E3FC;\n",
       "    }\n",
       "\n",
       "    [theme=dark] .colab-df-convert:hover {\n",
       "      background-color: #434B5C;\n",
       "      box-shadow: 0px 1px 3px 1px rgba(0, 0, 0, 0.15);\n",
       "      filter: drop-shadow(0px 1px 2px rgba(0, 0, 0, 0.3));\n",
       "      fill: #FFFFFF;\n",
       "    }\n",
       "  </style>\n",
       "\n",
       "    <script>\n",
       "      const buttonEl =\n",
       "        document.querySelector('#df-065e4f92-0c44-4f60-a641-a5d323da3d00 button.colab-df-convert');\n",
       "      buttonEl.style.display =\n",
       "        google.colab.kernel.accessAllowed ? 'block' : 'none';\n",
       "\n",
       "      async function convertToInteractive(key) {\n",
       "        const element = document.querySelector('#df-065e4f92-0c44-4f60-a641-a5d323da3d00');\n",
       "        const dataTable =\n",
       "          await google.colab.kernel.invokeFunction('convertToInteractive',\n",
       "                                                    [key], {});\n",
       "        if (!dataTable) return;\n",
       "\n",
       "        const docLinkHtml = 'Like what you see? Visit the ' +\n",
       "          '<a target=\"_blank\" href=https://colab.research.google.com/notebooks/data_table.ipynb>data table notebook</a>'\n",
       "          + ' to learn more about interactive tables.';\n",
       "        element.innerHTML = '';\n",
       "        dataTable['output_type'] = 'display_data';\n",
       "        await google.colab.output.renderOutput(dataTable, element);\n",
       "        const docLink = document.createElement('div');\n",
       "        docLink.innerHTML = docLinkHtml;\n",
       "        element.appendChild(docLink);\n",
       "      }\n",
       "    </script>\n",
       "  </div>\n",
       "\n",
       "\n",
       "<div id=\"df-62b15170-a248-42b9-a1cd-611b1c597ce5\">\n",
       "  <button class=\"colab-df-quickchart\" onclick=\"quickchart('df-62b15170-a248-42b9-a1cd-611b1c597ce5')\"\n",
       "            title=\"Suggest charts\"\n",
       "            style=\"display:none;\">\n",
       "\n",
       "<svg xmlns=\"http://www.w3.org/2000/svg\" height=\"24px\"viewBox=\"0 0 24 24\"\n",
       "     width=\"24px\">\n",
       "    <g>\n",
       "        <path d=\"M19 3H5c-1.1 0-2 .9-2 2v14c0 1.1.9 2 2 2h14c1.1 0 2-.9 2-2V5c0-1.1-.9-2-2-2zM9 17H7v-7h2v7zm4 0h-2V7h2v10zm4 0h-2v-4h2v4z\"/>\n",
       "    </g>\n",
       "</svg>\n",
       "  </button>\n",
       "\n",
       "<style>\n",
       "  .colab-df-quickchart {\n",
       "      --bg-color: #E8F0FE;\n",
       "      --fill-color: #1967D2;\n",
       "      --hover-bg-color: #E2EBFA;\n",
       "      --hover-fill-color: #174EA6;\n",
       "      --disabled-fill-color: #AAA;\n",
       "      --disabled-bg-color: #DDD;\n",
       "  }\n",
       "\n",
       "  [theme=dark] .colab-df-quickchart {\n",
       "      --bg-color: #3B4455;\n",
       "      --fill-color: #D2E3FC;\n",
       "      --hover-bg-color: #434B5C;\n",
       "      --hover-fill-color: #FFFFFF;\n",
       "      --disabled-bg-color: #3B4455;\n",
       "      --disabled-fill-color: #666;\n",
       "  }\n",
       "\n",
       "  .colab-df-quickchart {\n",
       "    background-color: var(--bg-color);\n",
       "    border: none;\n",
       "    border-radius: 50%;\n",
       "    cursor: pointer;\n",
       "    display: none;\n",
       "    fill: var(--fill-color);\n",
       "    height: 32px;\n",
       "    padding: 0;\n",
       "    width: 32px;\n",
       "  }\n",
       "\n",
       "  .colab-df-quickchart:hover {\n",
       "    background-color: var(--hover-bg-color);\n",
       "    box-shadow: 0 1px 2px rgba(60, 64, 67, 0.3), 0 1px 3px 1px rgba(60, 64, 67, 0.15);\n",
       "    fill: var(--button-hover-fill-color);\n",
       "  }\n",
       "\n",
       "  .colab-df-quickchart-complete:disabled,\n",
       "  .colab-df-quickchart-complete:disabled:hover {\n",
       "    background-color: var(--disabled-bg-color);\n",
       "    fill: var(--disabled-fill-color);\n",
       "    box-shadow: none;\n",
       "  }\n",
       "\n",
       "  .colab-df-spinner {\n",
       "    border: 2px solid var(--fill-color);\n",
       "    border-color: transparent;\n",
       "    border-bottom-color: var(--fill-color);\n",
       "    animation:\n",
       "      spin 1s steps(1) infinite;\n",
       "  }\n",
       "\n",
       "  @keyframes spin {\n",
       "    0% {\n",
       "      border-color: transparent;\n",
       "      border-bottom-color: var(--fill-color);\n",
       "      border-left-color: var(--fill-color);\n",
       "    }\n",
       "    20% {\n",
       "      border-color: transparent;\n",
       "      border-left-color: var(--fill-color);\n",
       "      border-top-color: var(--fill-color);\n",
       "    }\n",
       "    30% {\n",
       "      border-color: transparent;\n",
       "      border-left-color: var(--fill-color);\n",
       "      border-top-color: var(--fill-color);\n",
       "      border-right-color: var(--fill-color);\n",
       "    }\n",
       "    40% {\n",
       "      border-color: transparent;\n",
       "      border-right-color: var(--fill-color);\n",
       "      border-top-color: var(--fill-color);\n",
       "    }\n",
       "    60% {\n",
       "      border-color: transparent;\n",
       "      border-right-color: var(--fill-color);\n",
       "    }\n",
       "    80% {\n",
       "      border-color: transparent;\n",
       "      border-right-color: var(--fill-color);\n",
       "      border-bottom-color: var(--fill-color);\n",
       "    }\n",
       "    90% {\n",
       "      border-color: transparent;\n",
       "      border-bottom-color: var(--fill-color);\n",
       "    }\n",
       "  }\n",
       "</style>\n",
       "\n",
       "  <script>\n",
       "    async function quickchart(key) {\n",
       "      const quickchartButtonEl =\n",
       "        document.querySelector('#' + key + ' button');\n",
       "      quickchartButtonEl.disabled = true;  // To prevent multiple clicks.\n",
       "      quickchartButtonEl.classList.add('colab-df-spinner');\n",
       "      try {\n",
       "        const charts = await google.colab.kernel.invokeFunction(\n",
       "            'suggestCharts', [key], {});\n",
       "      } catch (error) {\n",
       "        console.error('Error during call to suggestCharts:', error);\n",
       "      }\n",
       "      quickchartButtonEl.classList.remove('colab-df-spinner');\n",
       "      quickchartButtonEl.classList.add('colab-df-quickchart-complete');\n",
       "    }\n",
       "    (() => {\n",
       "      let quickchartButtonEl =\n",
       "        document.querySelector('#df-62b15170-a248-42b9-a1cd-611b1c597ce5 button');\n",
       "      quickchartButtonEl.style.display =\n",
       "        google.colab.kernel.accessAllowed ? 'block' : 'none';\n",
       "    })();\n",
       "  </script>\n",
       "</div>\n",
       "\n",
       "    </div>\n",
       "  </div>\n"
      ],
      "text/plain": [
       "         id property_type        room_type  \\\n",
       "0   3808709     Apartment  Entire home/apt   \n",
       "1  12422935     Apartment     Private room   \n",
       "2    180792         House     Private room   \n",
       "3   2658946     Apartment  Entire home/apt   \n",
       "4   6226658     Apartment     Private room   \n",
       "\n",
       "                                           amenities  accommodates  bathrooms  \\\n",
       "0  {TV,Internet,\"Internet\",\"Air / Air / Heating\",...             2        1.0   \n",
       "1  {TV,\"Internet\",Air / Heating,\"Safety\",\"Safety\"...             2        1.0   \n",
       "2  {TV,\"TV\",\"Internet\",\"Pet Friendly\",Pet Friendl...             2        1.0   \n",
       "3  {TV,\"TV\",Internet,\"Internet\",\"Air / Air / Heat...             6        1.5   \n",
       "4  {Internet,\"Internet\",\"Air / Air / Heating\",Kit...             2        1.5   \n",
       "\n",
       "   bed_type cancellation_policy  cleaning_fee     city  ... Air / Heating  \\\n",
       "0  Real Bed            moderate          True       DC  ...          True   \n",
       "1  Real Bed              strict          True       SF  ...          True   \n",
       "2  Real Bed            moderate          True       SF  ...          True   \n",
       "3  Real Bed              strict          True       DC  ...          True   \n",
       "4  Real Bed            moderate          True  Chicago  ...          True   \n",
       "\n",
       "   EV charger Smoking  Pet Friendly   Work  Internet Accesibility  Coastal  \\\n",
       "0       False   False         False  False      True         True    False   \n",
       "1       False   False         False   True      True        False    False   \n",
       "2       False   False          True  False      True        False    False   \n",
       "3       False   False         False   True      True        False    False   \n",
       "4       False   False         False   True      True        False    False   \n",
       "\n",
       "   Essentials Room essentials  \n",
       "0        True           False  \n",
       "1        True            True  \n",
       "2        True            True  \n",
       "3        True            True  \n",
       "4        True            True  \n",
       "\n",
       "[5 rows x 79 columns]"
      ]
     },
     "execution_count": 207,
     "metadata": {},
     "output_type": "execute_result"
    }
   ],
   "source": [
    "# Leemos el archivo con pandas\n",
    "airbnb_ML_df = pd.read_csv('airbnb-us_EDA.csv')\n",
    "airbnb_ML_df.head()\n",
    "\n",
    "print(f'np.shape --> {np.shape(airbnb_ML_df)}')\n",
    "\n",
    "filas = np.shape(airbnb_ML_df)[0] # [0] para la primera dimension\n",
    "print(f'Filas: {filas}')\n",
    "\n",
    "columnas = np.shape(airbnb_ML_df)[1] # [1] para la segunda dimension\n",
    "print(f'Columnas: {columnas}')\n",
    "\n",
    "print('Output de \".head(5)\": ')\n",
    "airbnb_ML_df.head(5)"
   ]
  },
  {
   "cell_type": "code",
   "execution_count": null,
   "metadata": {
    "colab": {
     "base_uri": "https://localhost:8080/"
    },
    "id": "urHpg-YKzb76",
    "outputId": "15575334-9a30-479b-f62d-f8db0cccd99e"
   },
   "outputs": [
    {
     "name": "stdout",
     "output_type": "stream",
     "text": [
      "<class 'pandas.core.frame.DataFrame'>\n",
      "RangeIndex: 17866 entries, 0 to 17865\n",
      "Data columns (total 79 columns):\n",
      " #   Column                            Non-Null Count  Dtype  \n",
      "---  ------                            --------------  -----  \n",
      " 0   id                                17866 non-null  int64  \n",
      " 1   property_type                     17866 non-null  object \n",
      " 2   room_type                         17866 non-null  object \n",
      " 3   amenities                         17866 non-null  object \n",
      " 4   accommodates                      17866 non-null  int64  \n",
      " 5   bathrooms                         17866 non-null  float64\n",
      " 6   bed_type                          17866 non-null  object \n",
      " 7   cancellation_policy               17866 non-null  object \n",
      " 8   cleaning_fee                      17866 non-null  bool   \n",
      " 9   city                              17866 non-null  object \n",
      " 10  description                       17866 non-null  object \n",
      " 11  host_identity_verified            17866 non-null  bool   \n",
      " 12  host_since                        17866 non-null  object \n",
      " 13  instant_bookable                  17866 non-null  bool   \n",
      " 14  latitude                          17866 non-null  float64\n",
      " 15  longitude                         17866 non-null  float64\n",
      " 16  neighbourhood                     17866 non-null  object \n",
      " 17  number_of_reviews                 17866 non-null  int64  \n",
      " 18  review_scores_rating              17866 non-null  float64\n",
      " 19  zipcode                           17866 non-null  object \n",
      " 20  bedrooms                          17866 non-null  float64\n",
      " 21  beds                              17866 non-null  float64\n",
      " 22  price                             17866 non-null  float64\n",
      " 23  Enc_room_type                     17866 non-null  int64  \n",
      " 24  Enc_cancellation_policy           17866 non-null  int64  \n",
      " 25  Enc_city                          17866 non-null  int64  \n",
      " 26  property_type_Apartment           17866 non-null  bool   \n",
      " 27  property_type_Bed & Breakfast     17866 non-null  bool   \n",
      " 28  property_type_Boat                17866 non-null  bool   \n",
      " 29  property_type_Boutique hotel      17866 non-null  bool   \n",
      " 30  property_type_Bungalow            17866 non-null  bool   \n",
      " 31  property_type_Cabin               17866 non-null  bool   \n",
      " 32  property_type_Camper/RV           17866 non-null  bool   \n",
      " 33  property_type_Castle              17866 non-null  bool   \n",
      " 34  property_type_Cave                17866 non-null  bool   \n",
      " 35  property_type_Condominium         17866 non-null  bool   \n",
      " 36  property_type_Dorm                17866 non-null  bool   \n",
      " 37  property_type_Guest suite         17866 non-null  bool   \n",
      " 38  property_type_Guesthouse          17866 non-null  bool   \n",
      " 39  property_type_Hostel              17866 non-null  bool   \n",
      " 40  property_type_House               17866 non-null  bool   \n",
      " 41  property_type_In-law              17866 non-null  bool   \n",
      " 42  property_type_Loft                17866 non-null  bool   \n",
      " 43  property_type_Other               17866 non-null  bool   \n",
      " 44  property_type_Serviced apartment  17866 non-null  bool   \n",
      " 45  property_type_Tent                17866 non-null  bool   \n",
      " 46  property_type_Timeshare           17866 non-null  bool   \n",
      " 47  property_type_Townhouse           17866 non-null  bool   \n",
      " 48  property_type_Train               17866 non-null  bool   \n",
      " 49  property_type_Treehouse           17866 non-null  bool   \n",
      " 50  property_type_Vacation home       17866 non-null  bool   \n",
      " 51  property_type_Villa               17866 non-null  bool   \n",
      " 52  property_type_Yurt                17866 non-null  bool   \n",
      " 53  Breakfast                         17866 non-null  bool   \n",
      " 54  Winter Sports                     17866 non-null  bool   \n",
      " 55  Other                             17866 non-null  bool   \n",
      " 56  Kitchen equipment                 17866 non-null  bool   \n",
      " 57  Garden                            17866 non-null  bool   \n",
      " 58  Bath essentials                   17866 non-null  bool   \n",
      " 59  Events                            17866 non-null  bool   \n",
      " 60  Comfort                           17866 non-null  bool   \n",
      " 61  Gym                               17866 non-null  bool   \n",
      " 62  Pool                              17866 non-null  bool   \n",
      " 63  Kids                              17866 non-null  bool   \n",
      " 64  TV                                17866 non-null  bool   \n",
      " 65  Service                           17866 non-null  bool   \n",
      " 66  Paid parking                      17866 non-null  bool   \n",
      " 67  Safety                            17866 non-null  bool   \n",
      " 68  Free parking                      17866 non-null  bool   \n",
      " 69  Air / Heating                     17866 non-null  bool   \n",
      " 70  EV charger                        17866 non-null  bool   \n",
      " 71  Smoking                           17866 non-null  bool   \n",
      " 72  Pet Friendly                      17866 non-null  bool   \n",
      " 73  Work                              17866 non-null  bool   \n",
      " 74  Internet                          17866 non-null  bool   \n",
      " 75  Accesibility                      17866 non-null  bool   \n",
      " 76  Coastal                           17866 non-null  bool   \n",
      " 77  Essentials                        17866 non-null  bool   \n",
      " 78  Room essentials                   17866 non-null  bool   \n",
      "dtypes: bool(56), float64(7), int64(6), object(10)\n",
      "memory usage: 4.1+ MB\n"
     ]
    }
   ],
   "source": [
    "airbnb_ML_df.info()"
   ]
  },
  {
   "cell_type": "code",
   "execution_count": null,
   "metadata": {
    "id": "99rISlz6_PmJ"
   },
   "outputs": [],
   "source": [
    "# Filtrar las columnas numéricas\n",
    "airbnb_df_numeric = airbnb_ML_df.select_dtypes(include=['int64','float64','bool'])"
   ]
  },
  {
   "cell_type": "code",
   "execution_count": null,
   "metadata": {
    "colab": {
     "base_uri": "https://localhost:8080/",
     "height": 270
    },
    "id": "AcI-PDf7Agek",
    "outputId": "595977e5-513e-4767-b986-c5bab2448d12"
   },
   "outputs": [
    {
     "data": {
      "application/vnd.google.colaboratory.intrinsic+json": {
       "type": "dataframe",
       "variable_name": "airbnb_df_numeric"
      },
      "text/html": [
       "\n",
       "  <div id=\"df-c0b043f0-7c6d-4590-b4bd-3c4d67b5f0f5\" class=\"colab-df-container\">\n",
       "    <div>\n",
       "<style scoped>\n",
       "    .dataframe tbody tr th:only-of-type {\n",
       "        vertical-align: middle;\n",
       "    }\n",
       "\n",
       "    .dataframe tbody tr th {\n",
       "        vertical-align: top;\n",
       "    }\n",
       "\n",
       "    .dataframe thead th {\n",
       "        text-align: right;\n",
       "    }\n",
       "</style>\n",
       "<table border=\"1\" class=\"dataframe\">\n",
       "  <thead>\n",
       "    <tr style=\"text-align: right;\">\n",
       "      <th></th>\n",
       "      <th>id</th>\n",
       "      <th>accommodates</th>\n",
       "      <th>bathrooms</th>\n",
       "      <th>cleaning_fee</th>\n",
       "      <th>host_identity_verified</th>\n",
       "      <th>instant_bookable</th>\n",
       "      <th>latitude</th>\n",
       "      <th>longitude</th>\n",
       "      <th>number_of_reviews</th>\n",
       "      <th>review_scores_rating</th>\n",
       "      <th>...</th>\n",
       "      <th>Air / Heating</th>\n",
       "      <th>EV charger</th>\n",
       "      <th>Smoking</th>\n",
       "      <th>Pet Friendly</th>\n",
       "      <th>Work</th>\n",
       "      <th>Internet</th>\n",
       "      <th>Accesibility</th>\n",
       "      <th>Coastal</th>\n",
       "      <th>Essentials</th>\n",
       "      <th>Room essentials</th>\n",
       "    </tr>\n",
       "  </thead>\n",
       "  <tbody>\n",
       "    <tr>\n",
       "      <th>0</th>\n",
       "      <td>3808709</td>\n",
       "      <td>2</td>\n",
       "      <td>1.0</td>\n",
       "      <td>True</td>\n",
       "      <td>True</td>\n",
       "      <td>True</td>\n",
       "      <td>38.925627</td>\n",
       "      <td>-77.034596</td>\n",
       "      <td>4</td>\n",
       "      <td>40.000000</td>\n",
       "      <td>...</td>\n",
       "      <td>True</td>\n",
       "      <td>False</td>\n",
       "      <td>False</td>\n",
       "      <td>False</td>\n",
       "      <td>False</td>\n",
       "      <td>True</td>\n",
       "      <td>True</td>\n",
       "      <td>False</td>\n",
       "      <td>True</td>\n",
       "      <td>False</td>\n",
       "    </tr>\n",
       "    <tr>\n",
       "      <th>1</th>\n",
       "      <td>12422935</td>\n",
       "      <td>2</td>\n",
       "      <td>1.0</td>\n",
       "      <td>True</td>\n",
       "      <td>True</td>\n",
       "      <td>True</td>\n",
       "      <td>37.753164</td>\n",
       "      <td>-122.429526</td>\n",
       "      <td>3</td>\n",
       "      <td>100.000000</td>\n",
       "      <td>...</td>\n",
       "      <td>True</td>\n",
       "      <td>False</td>\n",
       "      <td>False</td>\n",
       "      <td>False</td>\n",
       "      <td>True</td>\n",
       "      <td>True</td>\n",
       "      <td>False</td>\n",
       "      <td>False</td>\n",
       "      <td>True</td>\n",
       "      <td>True</td>\n",
       "    </tr>\n",
       "    <tr>\n",
       "      <th>2</th>\n",
       "      <td>180792</td>\n",
       "      <td>2</td>\n",
       "      <td>1.0</td>\n",
       "      <td>True</td>\n",
       "      <td>False</td>\n",
       "      <td>False</td>\n",
       "      <td>37.781128</td>\n",
       "      <td>-122.501095</td>\n",
       "      <td>159</td>\n",
       "      <td>99.000000</td>\n",
       "      <td>...</td>\n",
       "      <td>True</td>\n",
       "      <td>False</td>\n",
       "      <td>False</td>\n",
       "      <td>True</td>\n",
       "      <td>False</td>\n",
       "      <td>True</td>\n",
       "      <td>False</td>\n",
       "      <td>False</td>\n",
       "      <td>True</td>\n",
       "      <td>True</td>\n",
       "    </tr>\n",
       "    <tr>\n",
       "      <th>3</th>\n",
       "      <td>2658946</td>\n",
       "      <td>6</td>\n",
       "      <td>1.5</td>\n",
       "      <td>True</td>\n",
       "      <td>True</td>\n",
       "      <td>True</td>\n",
       "      <td>38.919630</td>\n",
       "      <td>-77.031189</td>\n",
       "      <td>13</td>\n",
       "      <td>89.000000</td>\n",
       "      <td>...</td>\n",
       "      <td>True</td>\n",
       "      <td>False</td>\n",
       "      <td>False</td>\n",
       "      <td>False</td>\n",
       "      <td>True</td>\n",
       "      <td>True</td>\n",
       "      <td>False</td>\n",
       "      <td>False</td>\n",
       "      <td>True</td>\n",
       "      <td>True</td>\n",
       "    </tr>\n",
       "    <tr>\n",
       "      <th>4</th>\n",
       "      <td>6226658</td>\n",
       "      <td>2</td>\n",
       "      <td>1.5</td>\n",
       "      <td>True</td>\n",
       "      <td>True</td>\n",
       "      <td>False</td>\n",
       "      <td>41.908240</td>\n",
       "      <td>-87.695242</td>\n",
       "      <td>0</td>\n",
       "      <td>94.714908</td>\n",
       "      <td>...</td>\n",
       "      <td>True</td>\n",
       "      <td>False</td>\n",
       "      <td>False</td>\n",
       "      <td>False</td>\n",
       "      <td>True</td>\n",
       "      <td>True</td>\n",
       "      <td>False</td>\n",
       "      <td>False</td>\n",
       "      <td>True</td>\n",
       "      <td>True</td>\n",
       "    </tr>\n",
       "  </tbody>\n",
       "</table>\n",
       "<p>5 rows × 69 columns</p>\n",
       "</div>\n",
       "    <div class=\"colab-df-buttons\">\n",
       "\n",
       "  <div class=\"colab-df-container\">\n",
       "    <button class=\"colab-df-convert\" onclick=\"convertToInteractive('df-c0b043f0-7c6d-4590-b4bd-3c4d67b5f0f5')\"\n",
       "            title=\"Convert this dataframe to an interactive table.\"\n",
       "            style=\"display:none;\">\n",
       "\n",
       "  <svg xmlns=\"http://www.w3.org/2000/svg\" height=\"24px\" viewBox=\"0 -960 960 960\">\n",
       "    <path d=\"M120-120v-720h720v720H120Zm60-500h600v-160H180v160Zm220 220h160v-160H400v160Zm0 220h160v-160H400v160ZM180-400h160v-160H180v160Zm440 0h160v-160H620v160ZM180-180h160v-160H180v160Zm440 0h160v-160H620v160Z\"/>\n",
       "  </svg>\n",
       "    </button>\n",
       "\n",
       "  <style>\n",
       "    .colab-df-container {\n",
       "      display:flex;\n",
       "      gap: 12px;\n",
       "    }\n",
       "\n",
       "    .colab-df-convert {\n",
       "      background-color: #E8F0FE;\n",
       "      border: none;\n",
       "      border-radius: 50%;\n",
       "      cursor: pointer;\n",
       "      display: none;\n",
       "      fill: #1967D2;\n",
       "      height: 32px;\n",
       "      padding: 0 0 0 0;\n",
       "      width: 32px;\n",
       "    }\n",
       "\n",
       "    .colab-df-convert:hover {\n",
       "      background-color: #E2EBFA;\n",
       "      box-shadow: 0px 1px 2px rgba(60, 64, 67, 0.3), 0px 1px 3px 1px rgba(60, 64, 67, 0.15);\n",
       "      fill: #174EA6;\n",
       "    }\n",
       "\n",
       "    .colab-df-buttons div {\n",
       "      margin-bottom: 4px;\n",
       "    }\n",
       "\n",
       "    [theme=dark] .colab-df-convert {\n",
       "      background-color: #3B4455;\n",
       "      fill: #D2E3FC;\n",
       "    }\n",
       "\n",
       "    [theme=dark] .colab-df-convert:hover {\n",
       "      background-color: #434B5C;\n",
       "      box-shadow: 0px 1px 3px 1px rgba(0, 0, 0, 0.15);\n",
       "      filter: drop-shadow(0px 1px 2px rgba(0, 0, 0, 0.3));\n",
       "      fill: #FFFFFF;\n",
       "    }\n",
       "  </style>\n",
       "\n",
       "    <script>\n",
       "      const buttonEl =\n",
       "        document.querySelector('#df-c0b043f0-7c6d-4590-b4bd-3c4d67b5f0f5 button.colab-df-convert');\n",
       "      buttonEl.style.display =\n",
       "        google.colab.kernel.accessAllowed ? 'block' : 'none';\n",
       "\n",
       "      async function convertToInteractive(key) {\n",
       "        const element = document.querySelector('#df-c0b043f0-7c6d-4590-b4bd-3c4d67b5f0f5');\n",
       "        const dataTable =\n",
       "          await google.colab.kernel.invokeFunction('convertToInteractive',\n",
       "                                                    [key], {});\n",
       "        if (!dataTable) return;\n",
       "\n",
       "        const docLinkHtml = 'Like what you see? Visit the ' +\n",
       "          '<a target=\"_blank\" href=https://colab.research.google.com/notebooks/data_table.ipynb>data table notebook</a>'\n",
       "          + ' to learn more about interactive tables.';\n",
       "        element.innerHTML = '';\n",
       "        dataTable['output_type'] = 'display_data';\n",
       "        await google.colab.output.renderOutput(dataTable, element);\n",
       "        const docLink = document.createElement('div');\n",
       "        docLink.innerHTML = docLinkHtml;\n",
       "        element.appendChild(docLink);\n",
       "      }\n",
       "    </script>\n",
       "  </div>\n",
       "\n",
       "\n",
       "<div id=\"df-e77c1c6e-dd2b-4d8e-85ce-3cf5eb54e4c4\">\n",
       "  <button class=\"colab-df-quickchart\" onclick=\"quickchart('df-e77c1c6e-dd2b-4d8e-85ce-3cf5eb54e4c4')\"\n",
       "            title=\"Suggest charts\"\n",
       "            style=\"display:none;\">\n",
       "\n",
       "<svg xmlns=\"http://www.w3.org/2000/svg\" height=\"24px\"viewBox=\"0 0 24 24\"\n",
       "     width=\"24px\">\n",
       "    <g>\n",
       "        <path d=\"M19 3H5c-1.1 0-2 .9-2 2v14c0 1.1.9 2 2 2h14c1.1 0 2-.9 2-2V5c0-1.1-.9-2-2-2zM9 17H7v-7h2v7zm4 0h-2V7h2v10zm4 0h-2v-4h2v4z\"/>\n",
       "    </g>\n",
       "</svg>\n",
       "  </button>\n",
       "\n",
       "<style>\n",
       "  .colab-df-quickchart {\n",
       "      --bg-color: #E8F0FE;\n",
       "      --fill-color: #1967D2;\n",
       "      --hover-bg-color: #E2EBFA;\n",
       "      --hover-fill-color: #174EA6;\n",
       "      --disabled-fill-color: #AAA;\n",
       "      --disabled-bg-color: #DDD;\n",
       "  }\n",
       "\n",
       "  [theme=dark] .colab-df-quickchart {\n",
       "      --bg-color: #3B4455;\n",
       "      --fill-color: #D2E3FC;\n",
       "      --hover-bg-color: #434B5C;\n",
       "      --hover-fill-color: #FFFFFF;\n",
       "      --disabled-bg-color: #3B4455;\n",
       "      --disabled-fill-color: #666;\n",
       "  }\n",
       "\n",
       "  .colab-df-quickchart {\n",
       "    background-color: var(--bg-color);\n",
       "    border: none;\n",
       "    border-radius: 50%;\n",
       "    cursor: pointer;\n",
       "    display: none;\n",
       "    fill: var(--fill-color);\n",
       "    height: 32px;\n",
       "    padding: 0;\n",
       "    width: 32px;\n",
       "  }\n",
       "\n",
       "  .colab-df-quickchart:hover {\n",
       "    background-color: var(--hover-bg-color);\n",
       "    box-shadow: 0 1px 2px rgba(60, 64, 67, 0.3), 0 1px 3px 1px rgba(60, 64, 67, 0.15);\n",
       "    fill: var(--button-hover-fill-color);\n",
       "  }\n",
       "\n",
       "  .colab-df-quickchart-complete:disabled,\n",
       "  .colab-df-quickchart-complete:disabled:hover {\n",
       "    background-color: var(--disabled-bg-color);\n",
       "    fill: var(--disabled-fill-color);\n",
       "    box-shadow: none;\n",
       "  }\n",
       "\n",
       "  .colab-df-spinner {\n",
       "    border: 2px solid var(--fill-color);\n",
       "    border-color: transparent;\n",
       "    border-bottom-color: var(--fill-color);\n",
       "    animation:\n",
       "      spin 1s steps(1) infinite;\n",
       "  }\n",
       "\n",
       "  @keyframes spin {\n",
       "    0% {\n",
       "      border-color: transparent;\n",
       "      border-bottom-color: var(--fill-color);\n",
       "      border-left-color: var(--fill-color);\n",
       "    }\n",
       "    20% {\n",
       "      border-color: transparent;\n",
       "      border-left-color: var(--fill-color);\n",
       "      border-top-color: var(--fill-color);\n",
       "    }\n",
       "    30% {\n",
       "      border-color: transparent;\n",
       "      border-left-color: var(--fill-color);\n",
       "      border-top-color: var(--fill-color);\n",
       "      border-right-color: var(--fill-color);\n",
       "    }\n",
       "    40% {\n",
       "      border-color: transparent;\n",
       "      border-right-color: var(--fill-color);\n",
       "      border-top-color: var(--fill-color);\n",
       "    }\n",
       "    60% {\n",
       "      border-color: transparent;\n",
       "      border-right-color: var(--fill-color);\n",
       "    }\n",
       "    80% {\n",
       "      border-color: transparent;\n",
       "      border-right-color: var(--fill-color);\n",
       "      border-bottom-color: var(--fill-color);\n",
       "    }\n",
       "    90% {\n",
       "      border-color: transparent;\n",
       "      border-bottom-color: var(--fill-color);\n",
       "    }\n",
       "  }\n",
       "</style>\n",
       "\n",
       "  <script>\n",
       "    async function quickchart(key) {\n",
       "      const quickchartButtonEl =\n",
       "        document.querySelector('#' + key + ' button');\n",
       "      quickchartButtonEl.disabled = true;  // To prevent multiple clicks.\n",
       "      quickchartButtonEl.classList.add('colab-df-spinner');\n",
       "      try {\n",
       "        const charts = await google.colab.kernel.invokeFunction(\n",
       "            'suggestCharts', [key], {});\n",
       "      } catch (error) {\n",
       "        console.error('Error during call to suggestCharts:', error);\n",
       "      }\n",
       "      quickchartButtonEl.classList.remove('colab-df-spinner');\n",
       "      quickchartButtonEl.classList.add('colab-df-quickchart-complete');\n",
       "    }\n",
       "    (() => {\n",
       "      let quickchartButtonEl =\n",
       "        document.querySelector('#df-e77c1c6e-dd2b-4d8e-85ce-3cf5eb54e4c4 button');\n",
       "      quickchartButtonEl.style.display =\n",
       "        google.colab.kernel.accessAllowed ? 'block' : 'none';\n",
       "    })();\n",
       "  </script>\n",
       "</div>\n",
       "\n",
       "    </div>\n",
       "  </div>\n"
      ],
      "text/plain": [
       "         id  accommodates  bathrooms  cleaning_fee  host_identity_verified  \\\n",
       "0   3808709             2        1.0          True                    True   \n",
       "1  12422935             2        1.0          True                    True   \n",
       "2    180792             2        1.0          True                   False   \n",
       "3   2658946             6        1.5          True                    True   \n",
       "4   6226658             2        1.5          True                    True   \n",
       "\n",
       "   instant_bookable   latitude   longitude  number_of_reviews  \\\n",
       "0              True  38.925627  -77.034596                  4   \n",
       "1              True  37.753164 -122.429526                  3   \n",
       "2             False  37.781128 -122.501095                159   \n",
       "3              True  38.919630  -77.031189                 13   \n",
       "4             False  41.908240  -87.695242                  0   \n",
       "\n",
       "   review_scores_rating  ...  Air / Heating  EV charger  Smoking  \\\n",
       "0             40.000000  ...           True       False    False   \n",
       "1            100.000000  ...           True       False    False   \n",
       "2             99.000000  ...           True       False    False   \n",
       "3             89.000000  ...           True       False    False   \n",
       "4             94.714908  ...           True       False    False   \n",
       "\n",
       "   Pet Friendly   Work  Internet  Accesibility  Coastal  Essentials  \\\n",
       "0         False  False      True          True    False        True   \n",
       "1         False   True      True         False    False        True   \n",
       "2          True  False      True         False    False        True   \n",
       "3         False   True      True         False    False        True   \n",
       "4         False   True      True         False    False        True   \n",
       "\n",
       "   Room essentials  \n",
       "0            False  \n",
       "1             True  \n",
       "2             True  \n",
       "3             True  \n",
       "4             True  \n",
       "\n",
       "[5 rows x 69 columns]"
      ]
     },
     "execution_count": 210,
     "metadata": {},
     "output_type": "execute_result"
    }
   ],
   "source": [
    "airbnb_df_numeric.head()"
   ]
  },
  {
   "cell_type": "code",
   "execution_count": null,
   "metadata": {
    "id": "N8pitojIyk7c"
   },
   "outputs": [],
   "source": [
    "# Separamos las columnas numéricas y categóricas\n",
    "numerical_cols = ['beds','bedrooms','bathrooms','Enc_room_type','Kids','TV','Accesibility','Gym']\n",
    "\n",
    "categorical_cols = ['property_type', 'room_type', 'cancellation_policy', 'city', 'zipcode',\n",
    "                    'neighbourhood', 'bed_type', 'host_since']\n",
    "\n",
    "# Preprocesamiento de datos\n",
    "numerical_transformer = Pipeline(steps=[\n",
    "    ('imputer', SimpleImputer(strategy='mean')),  # Rellenar valores nulos con la media\n",
    "    ('scaler', StandardScaler())  # Escalar las variables numéricas\n",
    "])\n",
    "\n",
    "categorical_transformer = Pipeline(steps=[\n",
    "    ('imputer', SimpleImputer(strategy='most_frequent')),  # Rellenar valores nulos con el valor más frecuente\n",
    "    ('onehot', OneHotEncoder(handle_unknown='ignore'))  # Codificar las variables categóricas\n",
    "])\n",
    "\n",
    "# Combina ambos preprocesadores\n",
    "preprocessor = ColumnTransformer(\n",
    "    transformers=[\n",
    "        ('num', numerical_transformer, numerical_cols),\n",
    "        ('cat', categorical_transformer, categorical_cols)\n",
    "    ]\n",
    ")\n",
    "\n",
    "# Preparamos el dataframe\n",
    "X = airbnb_df_numeric.drop(columns=['price', 'id'])  # Eliminamos la variable objetivo (price) y la columna id\n",
    "y = airbnb_df_numeric['price']  # Variable objetivo\n",
    "\n",
    "# Dividimos los datos en conjunto de entrenamiento y conjunto de prueba\n",
    "X_train, X_test, y_train, y_test = train_test_split(X, y, test_size=0.2, random_state=42)"
   ]
  },
  {
   "cell_type": "code",
   "execution_count": null,
   "metadata": {
    "colab": {
     "base_uri": "https://localhost:8080/"
    },
    "id": "gu-ldNXK3uIv",
    "outputId": "b9eeecf0-4ff8-4dc2-a4f2-ff08922995e9"
   },
   "outputs": [
    {
     "name": "stdout",
     "output_type": "stream",
     "text": [
      "Dimensiones de X: (17866, 67)\n",
      "Dimensiones de y: (17866,)\n"
     ]
    }
   ],
   "source": [
    "y = np.array(airbnb_ML_df[\"price\"])\n",
    "x = airbnb_df_numeric.drop(['id','price'], axis=1)\n",
    "\n",
    "print(f'Dimensiones de X: {x.shape}')\n",
    "print(f'Dimensiones de y: {y.shape}')"
   ]
  },
  {
   "cell_type": "code",
   "execution_count": null,
   "metadata": {
    "colab": {
     "base_uri": "https://localhost:8080/"
    },
    "id": "rQYQ2PMj5Urc",
    "outputId": "da6fe6de-cd33-483a-dafd-fd3795b63594"
   },
   "outputs": [
    {
     "name": "stdout",
     "output_type": "stream",
     "text": [
      "xtrain: (14292, 67)\n",
      "xtest: (3574, 67)\n",
      "ytrain: (14292,)\n",
      "ytest: (3574,)\n"
     ]
    }
   ],
   "source": [
    "xtrain, xtest, ytrain, ytest = train_test_split(x,y,test_size=0.2, random_state = 42)\n",
    "print(\"xtrain:\",xtrain.shape)\n",
    "print(\"xtest:\",xtest.shape)\n",
    "print(\"ytrain:\",ytrain.shape)\n",
    "print(\"ytest:\",ytest.shape)"
   ]
  },
  {
   "cell_type": "code",
   "execution_count": null,
   "metadata": {
    "id": "_rwFGEyE5gPt"
   },
   "outputs": [],
   "source": [
    "#Hacmemos el autoscaling con los datos de train para evitar pasarle al modelo datos de test.\n",
    "scaler = preprocessing.StandardScaler().fit(xtrain)"
   ]
  },
  {
   "cell_type": "code",
   "execution_count": null,
   "metadata": {
    "colab": {
     "base_uri": "https://localhost:8080/"
    },
    "collapsed": true,
    "id": "HQhl9-L85ju4",
    "outputId": "64080db1-e2ec-4ab0-b046-b8f107c21f2d"
   },
   "outputs": [
    {
     "name": "stdout",
     "output_type": "stream",
     "text": [
      "[ 1.02415200e-16  2.10796334e-16  0.00000000e+00  1.12855584e-16\n",
      " -3.18183145e-17  2.86563695e-15 -2.02593174e-17 -3.97728931e-18\n",
      " -1.67543312e-16  7.65628193e-17  9.94322328e-17  4.47445048e-17\n",
      " -1.69034796e-17 -3.33097980e-17 -7.55684969e-17 -2.33665747e-17\n",
      "  2.23722524e-17 -2.08807689e-17  1.19318679e-17  1.14347068e-17\n",
      " -3.48012815e-18  9.94322328e-18  0.00000000e+00  1.98864466e-17\n",
      " -1.74006407e-17 -2.58523805e-17 -3.97728931e-18 -2.98296698e-18\n",
      "  4.97161164e-18 -3.48012815e-18 -5.46877281e-17  0.00000000e+00\n",
      " -3.97728931e-18  9.94322328e-19 -1.49148349e-17 -3.08239922e-17\n",
      " -2.98296698e-18 -1.98864466e-18 -9.94322328e-19  3.97728931e-18\n",
      "  8.94890095e-18  8.10372698e-17  7.95457863e-18  2.29937038e-17\n",
      " -2.04581819e-16  3.23154757e-17 -1.21307324e-16  8.45173979e-17\n",
      "  4.42473436e-17 -9.94322328e-19 -3.82814096e-17 -1.18821518e-16\n",
      " -4.74788912e-17 -9.94322328e-19 -2.48580582e-18 -1.31499128e-16\n",
      " -2.98296698e-17 -1.29261903e-17 -1.98864466e-18  1.29261903e-17\n",
      " -9.94322328e-19 -2.32422844e-17 -2.18750912e-17  2.23722524e-17\n",
      "  1.29261903e-17  8.55117202e-17 -1.00426555e-16]\n",
      "[1. 1. 0. 1. 1. 1. 1. 1. 1. 1. 1. 1. 1. 1. 1. 1. 1. 1. 1. 1. 1. 1. 1. 1.\n",
      " 1. 1. 1. 1. 1. 1. 1. 1. 1. 1. 1. 1. 1. 1. 1. 1. 1. 1. 1. 1. 1. 1. 1. 1.\n",
      " 1. 1. 1. 1. 1. 1. 1. 1. 1. 1. 1. 1. 1. 1. 1. 1. 1. 1. 1.]\n"
     ]
    }
   ],
   "source": [
    "#Determinamos los nuevos valores de x, en funcion de las nuevas mu y sigma definidas en la linea anterior\n",
    "xtrain_scal = scaler.transform(xtrain)\n",
    "\n",
    "#Imprimimos la media y el desvio obtenidos, los cuales tomaran valores de 0 y 1 respectivamente\n",
    "print(xtrain_scal.mean(axis=0))\n",
    "print(xtrain_scal.std(axis=0))"
   ]
  },
  {
   "cell_type": "code",
   "execution_count": null,
   "metadata": {
    "colab": {
     "base_uri": "https://localhost:8080/"
    },
    "collapsed": true,
    "id": "i34nEXzY5lnt",
    "outputId": "6daf2dc4-79ed-438a-aa59-3e1e398975e8"
   },
   "outputs": [
    {
     "name": "stdout",
     "output_type": "stream",
     "text": [
      "[ 2.63443695e-03  1.39518319e-02  0.00000000e+00  1.30036895e-02\n",
      "  2.02416053e-02 -1.26880600e-02 -2.85918601e-02  1.06592208e-02\n",
      " -1.92750183e-02  5.74091795e-03 -5.38725093e-04 -2.16237119e-02\n",
      " -5.43859761e-03  8.33416928e-03  8.37626467e-03  3.11817256e-02\n",
      "  9.58852726e-03 -1.39081120e-03  8.35803047e-03  2.61778608e-02\n",
      " -1.67318620e-02  3.54779149e-02 -8.36505287e-03  1.22706669e-02\n",
      " -3.06956644e-03  7.09161475e-03  2.27804871e-02 -1.16103099e-02\n",
      " -2.13340280e-02 -2.51002484e-02 -2.90096535e-05 -7.75573863e-03\n",
      "  2.50857965e-02 -8.36505287e-03  8.71421558e-03 -2.70226469e-03\n",
      " -8.36505287e-03  2.50857965e-02 -8.36505287e-03 -2.77534535e-02\n",
      " -1.18303851e-02  3.65731733e-03 -2.21364970e-02 -2.36922730e-02\n",
      "  5.68449538e-03 -7.52099831e-03 -3.75722782e-03 -6.77705731e-05\n",
      "  2.38970961e-02  7.15948890e-03 -4.47950151e-03  7.71006590e-03\n",
      " -1.26027086e-02  1.39574267e-02 -1.67318620e-02  3.05163134e-03\n",
      "  2.85078850e-02  1.40000506e-02 -1.01566158e-02  2.70751644e-02\n",
      " -1.78216700e-02 -1.23852154e-02  1.82724025e-02  1.96459551e-02\n",
      " -2.07460355e-02 -1.86613268e-02 -2.18194963e-02]\n",
      "[9.80065961e-01 1.01932397e+00 0.00000000e+00 9.93795834e-01\n",
      " 1.00968483e+00 1.00493565e+00 1.00997324e+00 1.02135289e+00\n",
      " 1.03633769e+00 1.01780399e+00 9.61498171e-01 9.95787563e-01\n",
      " 9.95791971e-01 9.91959664e-01 9.98198811e-01 1.17037450e+00\n",
      " 1.12354915e+00 9.86290860e-01 1.15441787e+00 1.54859726e+00\n",
      " 3.46944695e-18 1.99930048e+00 1.73472348e-18 1.01869690e+00\n",
      " 9.66024610e-01 1.05793012e+00 1.19740765e+00 7.84492163e-01\n",
      " 9.86965410e-01 7.70287319e-01 9.99861595e-01 9.56893750e-01\n",
      " 1.99951036e+00 1.73472348e-18 1.10300720e+00 9.91847834e-01\n",
      " 1.73472348e-18 1.99951036e+00 1.73472348e-18 1.04083409e-17\n",
      " 1.73472348e-18 1.00404952e+00 0.00000000e+00 7.07404489e-01\n",
      " 9.88581364e-01 9.78733335e-01 1.00358947e+00 9.99868297e-01\n",
      " 9.97065634e-01 1.00862610e+00 9.90901475e-01 9.99122166e-01\n",
      " 1.00823389e+00 1.02452699e+00 3.46944695e-18 9.95543395e-01\n",
      " 1.01274154e+00 9.69316222e-01 8.40197708e-01 1.07824550e+00\n",
      " 9.89371946e-01 1.00373998e+00 9.47540590e-01 1.01272871e+00\n",
      " 8.23821414e-01 1.02461435e+00 1.01408819e+00]\n"
     ]
    }
   ],
   "source": [
    "#Adaptamos las muestras de test con los el scaler ajustado a los datos de train - no volvemos a aprender un nuevo scaler -\n",
    "xtest_scal = scaler.transform(xtest)\n",
    "\n",
    "#Imprimimos la media y el desvio estandard\n",
    "print(xtest_scal.mean(axis=0))\n",
    "print(xtest_scal.std(axis=0))"
   ]
  },
  {
   "cell_type": "markdown",
   "metadata": {
    "id": "RK69TvXVCAbp"
   },
   "source": [
    "# Linear Regression"
   ]
  },
  {
   "cell_type": "code",
   "execution_count": null,
   "metadata": {
    "id": "AC1sKlQKCCEk"
   },
   "outputs": [],
   "source": [
    "lr = LinearRegression()"
   ]
  },
  {
   "cell_type": "code",
   "execution_count": null,
   "metadata": {
    "id": "VHaeX_u8CEPm"
   },
   "outputs": [],
   "source": [
    "lr.fit(xtrain_scal, ytrain)\n",
    "ypred = lr.predict(xtest_scal)"
   ]
  },
  {
   "cell_type": "code",
   "execution_count": null,
   "metadata": {
    "colab": {
     "base_uri": "https://localhost:8080/"
    },
    "id": "iP9ewT76CGWV",
    "outputId": "1138b662-fbb3-4475-b501-16dfe4468d56"
   },
   "outputs": [
    {
     "name": "stdout",
     "output_type": "stream",
     "text": [
      "El MSE en el conjunto de prueba es: 5941.5424\n",
      "El RMSE en el conjunto de prueba es: 77.0814\n"
     ]
    }
   ],
   "source": [
    "# Calcular el MSE\n",
    "mse = mean_squared_error(ytest, ypred).__round__(4)\n",
    "\n",
    "# Calcular el RMSE\n",
    "rmse = np.sqrt(mse).__round__(4)\n",
    "\n",
    "# Imprimir ambos resultados\n",
    "print(f'El MSE en el conjunto de prueba es: {mse}')\n",
    "print(f'El RMSE en el conjunto de prueba es: {rmse}')\n"
   ]
  },
  {
   "cell_type": "markdown",
   "metadata": {
    "id": "grSf9DPJD5RP"
   },
   "source": [
    "# Principal Component Analisys (PCA)"
   ]
  },
  {
   "cell_type": "code",
   "execution_count": null,
   "metadata": {
    "id": "ZyVL6gKbF5c-"
   },
   "outputs": [],
   "source": [
    "# Realizamos un autoscaling con los datos, para todas las features\n",
    "scaler = StandardScaler().fit(x)\n",
    "xscal = scaler.transform(x)"
   ]
  },
  {
   "cell_type": "code",
   "execution_count": null,
   "metadata": {
    "colab": {
     "base_uri": "https://localhost:8080/",
     "height": 607
    },
    "id": "iIM1pyGODrSN",
    "outputId": "3e4b9c80-949a-4e96-b3f5-c4fe4b3cb20e"
   },
   "outputs": [
    {
     "data": {
      "image/png": "[encoded data removed]",
      "text/plain": [
       "<Figure size 1200x600 with 2 Axes>"
      ]
     },
     "metadata": {},
     "output_type": "display_data"
    }
   ],
   "source": [
    "# Definimos la cantidad de componentes\n",
    "n_comps = 67\n",
    "components = range(1,n_comps + 1)\n",
    "#Creamos el objeto PCA\n",
    "pca = PCA(n_components=n_comps)\n",
    "\n",
    "# Ajustamos\n",
    "pca.fit(xscal)\n",
    "# Transformamos\n",
    "xpca = pca.transform(xscal)\n",
    "\n",
    "# Porcentaje de la varianza explicada por cada Principal Component (PC)\n",
    "eigenvalues_acum = eigenvalues.cumsum()\n",
    "\n",
    "# Suma acumulada\n",
    "eigenvalues_acum = pca.explained_variance_ratio_.cumsum()\n",
    "\n",
    "# Graficamos\n",
    "# Eje Izquierdo\n",
    "fig, ax1 = plt.subplots(figsize=(12,6))\n",
    "ax1.set_xlabel('Componentes Principales',fontsize=20)\n",
    "ax1.set_ylabel('Varianza Explicada', color='k',fontsize=20)\n",
    "ax1.bar(components, eigenvalues, color='blue')\n",
    "ax1.tick_params(axis='y', labelcolor='blue')\n",
    "\n",
    "# Eje derecho\n",
    "ax2 = ax1.twinx()  # instantiate a second axes that shares the same x-axis\n",
    "ax2.set_ylabel('Varianza Acumulada', color='k',fontsize=20)\n",
    "ax2.plot(components, eigenvalues_acum, color='red')\n",
    "ax2.tick_params(axis='y', labelcolor='red')\n",
    "\n",
    "fig.tight_layout()  # otherwise the right y-label is slightly clipped\n",
    "plt.show()"
   ]
  },
  {
   "cell_type": "code",
   "execution_count": null,
   "metadata": {
    "colab": {
     "base_uri": "https://localhost:8080/"
    },
    "id": "JS8UpCUQcvwI",
    "outputId": "a3b7aafe-562c-4921-a699-5617992866f1"
   },
   "outputs": [
    {
     "name": "stdout",
     "output_type": "stream",
     "text": [
      "Número de componentes para explicar el 95% de la varianza: 57\n"
     ]
    }
   ],
   "source": [
    "# Determinar cuántos componentes explicarían el 95% de la varianza\n",
    "n_comps_95 = next(i for i, v in enumerate(eigenvalues_acum) if v >= 0.95) + 1\n",
    "print(f\"Número de componentes para explicar el 95% de la varianza: {n_comps_95}\")"
   ]
  },
  {
   "cell_type": "code",
   "execution_count": null,
   "metadata": {
    "colab": {
     "base_uri": "https://localhost:8080/"
    },
    "id": "DYRtIWUXO546",
    "outputId": "d1dae157-9eea-4163-89b9-8da91d48df38"
   },
   "outputs": [
    {
     "name": "stdout",
     "output_type": "stream",
     "text": [
      "Error cuadrático medio (MSE): 5748.099079325417\n",
      "Coeficiente de determinación (R²): 0.4418854177259578\n",
      "El RMSE en el conjunto de prueba es: 75.8162\n",
      "Varianza explicada acumulada: [0.06296039 0.10955676 0.14689057 0.17978648 0.20685824 0.22972828\n",
      " 0.2505006  0.27049399 0.2895561  0.30766955 0.32507493 0.34224006\n",
      " 0.35900127 0.37560231 0.39179128 0.407554   0.42324558 0.43879787\n",
      " 0.45427999 0.46968147 0.48500969 0.50032155 0.515569   0.53080126\n",
      " 0.54601986 0.56123459 0.57641282 0.59158155 0.60674652 0.6219066\n",
      " 0.63705404 0.65216337 0.66724955 0.68227652 0.69725872 0.71201938\n",
      " 0.72646535 0.74061962 0.75447933 0.76821685 0.78165651 0.79490677\n",
      " 0.80804074 0.82083804 0.83324923 0.84535221 0.85701168 0.86826992\n",
      " 0.879507   0.89061198 0.90153884 0.91194771 0.92197421 0.93154722\n",
      " 0.94056698 0.94951275 0.95798012 0.96640932 0.97400319 0.98128911\n",
      " 0.98743741 0.99312178 0.99706987 0.99940778 1.         1.\n",
      " 1.        ]\n"
     ]
    }
   ],
   "source": [
    "# Dividir en conjunto de entrenamiento y prueba\n",
    "X_train_pca, X_test_pca, y_train, y_test = train_test_split(xpca, y, test_size=0.15, random_state=15)\n",
    "\n",
    "# Crear y entrenar el modelo de regresión\n",
    "regression_model = LinearRegression()\n",
    "regression_model.fit(X_train_pca, y_train)\n",
    "\n",
    "# Hacer predicciones en el conjunto de prueba\n",
    "y_pred = regression_model.predict(X_test_pca)\n",
    "\n",
    "# Evaluar el modelo\n",
    "mse = mean_squared_error(y_test, y_pred)\n",
    "r2 = r2_score(y_test, y_pred)\n",
    "rmse = np.sqrt(mse).__round__(4)\n",
    "\n",
    "# Mostrar resultados\n",
    "print(f\"Error cuadrático medio (MSE): {mse}\")\n",
    "print(f\"Coeficiente de determinación (R²): {r2}\")\n",
    "print(f'El RMSE en el conjunto de prueba es: {rmse}')\n",
    "\n",
    "# Información adicional sobre PCA\n",
    "explained_variance = np.cumsum(pca.explained_variance_ratio_)\n",
    "print(f\"Varianza explicada acumulada: {explained_variance}\")"
   ]
  },
  {
   "cell_type": "markdown",
   "metadata": {
    "id": "BpbONugHdUjG"
   },
   "source": [
    "Luego de aplicar PCA, notamos que el MSE ha disminuido, aunque no sea en magnitudes del orden más representativas"
   ]
  },
  {
   "cell_type": "code",
   "execution_count": null,
   "metadata": {
    "colab": {
     "base_uri": "https://localhost:8080/",
     "height": 564
    },
    "id": "GfeGznWnVxEF",
    "outputId": "abc2aeda-84fe-4be7-f5b8-afc8ce95f17b"
   },
   "outputs": [
    {
     "data": {
      "image/png": "[encoded data removed]",
      "text/plain": [
       "<Figure size 800x600 with 1 Axes>"
      ]
     },
     "metadata": {},
     "output_type": "display_data"
    }
   ],
   "source": [
    "# Comparar valores predichos vs valores reales\n",
    "plt.figure(figsize=(8, 6))\n",
    "plt.scatter(y_test, y_pred, alpha=0.6)\n",
    "plt.plot([y_test.min(), y_test.max()], [y_test.min(), y_test.max()], 'r--', lw=2)\n",
    "plt.xlabel(\"Valores reales\")\n",
    "plt.ylabel(\"Valores predichos\")\n",
    "plt.title(\"Predicciones vs Reales\")\n",
    "plt.show()"
   ]
  },
  {
   "cell_type": "code",
   "execution_count": null,
   "metadata": {
    "colab": {
     "base_uri": "https://localhost:8080/",
     "height": 565
    },
    "id": "VbIrZx2CWe-h",
    "outputId": "1014bd84-8934-4e07-ee04-8c02e9204b51"
   },
   "outputs": [
    {
     "data": {
      "image/png": "[encoded data removed]",
      "text/plain": [
       "<Figure size 800x600 with 1 Axes>"
      ]
     },
     "metadata": {},
     "output_type": "display_data"
    }
   ],
   "source": [
    "plt.figure(figsize=(8, 6))\n",
    "plt.plot(explained_variance, marker='o', linestyle='--')\n",
    "plt.xlabel('Número de componentes principales')\n",
    "plt.ylabel('Varianza explicada acumulada')\n",
    "plt.title('Varianza explicada acumulada por PCA')\n",
    "plt.grid()\n",
    "plt.show()"
   ]
  },
  {
   "cell_type": "code",
   "execution_count": null,
   "metadata": {
    "colab": {
     "base_uri": "https://localhost:8080/"
    },
    "id": "RvSFbx0iWmis",
    "outputId": "b0998f5e-2095-4948-dc7d-fe6cf7fc7eb9"
   },
   "outputs": [
    {
     "name": "stdout",
     "output_type": "stream",
     "text": [
      "Coeficientes del modelo:\n",
      "Componente principal 1: 20.091566352096386\n",
      "Componente principal 2: -6.336870320169283\n",
      "Componente principal 3: -18.72791572158807\n",
      "Componente principal 4: -21.153376001950427\n",
      "Componente principal 5: 8.452990824161123\n",
      "Componente principal 6: -4.355314265885971\n",
      "Componente principal 7: -6.3473151911059045\n",
      "Componente principal 8: -8.492712976975888\n",
      "Componente principal 9: 5.088748428128194\n",
      "Componente principal 10: 11.4781222152668\n",
      "Componente principal 11: -1.8757152721340447\n",
      "Componente principal 12: 4.040717885728384\n",
      "Componente principal 13: 0.5025924647035254\n",
      "Componente principal 14: 3.1788444150469672\n",
      "Componente principal 15: -5.05108485548385\n",
      "Componente principal 16: 1.1155805236882657\n",
      "Componente principal 17: -0.46924705898868524\n",
      "Componente principal 18: -1.5484703069387251\n",
      "Componente principal 19: -0.49345098401045107\n",
      "Componente principal 20: 2.5162631806852005\n",
      "Componente principal 21: -1.0130218887788942\n",
      "Componente principal 22: -0.46255449013551697\n",
      "Componente principal 23: -0.40490265376865864\n",
      "Componente principal 24: -0.18821152672171593\n",
      "Componente principal 25: -0.14203882589936256\n",
      "Componente principal 26: 2.375960610806942\n",
      "Componente principal 27: -0.03964519500732422\n",
      "Componente principal 28: 0.8006665706634521\n",
      "Componente principal 29: 1.1791796684265137\n",
      "Componente principal 30: -0.85400390625\n",
      "Componente principal 31: 0.021209716796875\n",
      "Componente principal 32: -2.4537353515625\n",
      "Componente principal 33: 0.0419921875\n",
      "Componente principal 34: 2.1993408203125\n",
      "Componente principal 35: -3.9712867736816406\n",
      "Componente principal 36: 1.3060302734375\n",
      "Componente principal 37: 0.6348114013671875\n",
      "Componente principal 38: -1.654541015625\n",
      "Componente principal 39: 1.220245361328125\n",
      "Componente principal 40: -3.400390625\n",
      "Componente principal 41: -0.931732177734375\n",
      "Componente principal 42: -4.53466796875\n",
      "Componente principal 43: 5.8627166748046875\n",
      "Componente principal 44: 2.98046875\n",
      "Componente principal 45: -3.8662109375\n",
      "Componente principal 46: -0.4781494140625\n",
      "Componente principal 47: 0.6010189056396484\n",
      "Componente principal 48: -1.263427734375\n",
      "Componente principal 49: -0.1331634521484375\n",
      "Componente principal 50: 2.95458984375\n",
      "Componente principal 51: -1.518798828125\n",
      "Componente principal 52: -2.7490234375\n",
      "Componente principal 53: -1.123138427734375\n",
      "Componente principal 54: -0.847412109375\n",
      "Componente principal 55: 1.3752593994140625\n",
      "Componente principal 56: 7.6771697998046875\n",
      "Componente principal 57: -4.84228515625\n",
      "Componente principal 58: 0.8818359375\n",
      "Componente principal 59: 9.288330078125\n",
      "Componente principal 60: -20.48773193359375\n",
      "Componente principal 61: 1.8839111328125\n",
      "Componente principal 62: 6.034782409667969\n",
      "Componente principal 63: 14.13104248046875\n",
      "Componente principal 64: 9.905853271484375\n",
      "Componente principal 65: -79.510009765625\n",
      "Componente principal 66: -1576407818178.9023\n",
      "Componente principal 67: 41859620797487.02\n"
     ]
    }
   ],
   "source": [
    "# Coeficientes del modelo de regresión\n",
    "coefficients = regression_model.coef_\n",
    "print(\"Coeficientes del modelo:\")\n",
    "for i, coef in enumerate(coefficients, start=1):\n",
    "    print(f\"Componente principal {i}: {coef}\")"
   ]
  },
  {
   "cell_type": "code",
   "execution_count": null,
   "metadata": {
    "colab": {
     "base_uri": "https://localhost:8080/"
    },
    "id": "4bpHdrsSWvu9",
    "outputId": "0fb72fb0-2135-443c-8404-6c86f148643e"
   },
   "outputs": [
    {
     "name": "stdout",
     "output_type": "stream",
     "text": [
      "Error absoluto medio (MAE): 53.798375636065764\n"
     ]
    }
   ],
   "source": [
    "from sklearn.metrics import mean_absolute_error\n",
    "\n",
    "# Error absoluto medio\n",
    "mae = mean_absolute_error(y_test, y_pred)\n",
    "print(f\"Error absoluto medio (MAE): {mae}\")"
   ]
  },
  {
   "cell_type": "markdown",
   "metadata": {
    "id": "SJrf_TVBjw7W"
   },
   "source": [
    "# Linear Regression con PCA"
   ]
  },
  {
   "cell_type": "code",
   "execution_count": null,
   "metadata": {
    "colab": {
     "base_uri": "https://localhost:8080/"
    },
    "id": "CbSnEpO6W3Vd",
    "outputId": "1d85527f-5c87-4aba-d3ff-8c4173a90d04"
   },
   "outputs": [
    {
     "name": "stdout",
     "output_type": "stream",
     "text": [
      "Error Absoluto Medio (MAE): 53.798375636065764\n",
      "Error Cuadrático Medio (MSE): 5748.099079325417\n",
      "Raíz del Error Cuadrático Medio (RMSE): 75.81621910465739\n"
     ]
    }
   ],
   "source": [
    "# Crear el modelo de regresión lineal\n",
    "lr = LinearRegression()\n",
    "\n",
    "# Ajustar el modelo con los datos de entrenamiento\n",
    "lr.fit(X_train_pca, y_train)\n",
    "\n",
    "# Hacer predicciones con los datos de prueba\n",
    "y_pred = lr.predict(X_test_pca)\n",
    "\n",
    "# Evaluar el modelo usando MAE\n",
    "mae = mean_absolute_error(y_test, y_pred)\n",
    "print(f\"Error Absoluto Medio (MAE): {mae}\")\n",
    "\n",
    "# Evaluar el modelo usando MSE\n",
    "mse = mean_squared_error(y_test, y_pred)\n",
    "print(f\"Error Cuadrático Medio (MSE): {mse}\")\n",
    "\n",
    "# Evaluar el modelo usando RMSE\n",
    "rmse = np.sqrt(mse)\n",
    "print(f\"Raíz del Error Cuadrático Medio (RMSE): {rmse}\")"
   ]
  },
  {
   "cell_type": "markdown",
   "metadata": {
    "id": "CQ0aJlRQjsqP"
   },
   "source": [
    "# Random Forest"
   ]
  },
  {
   "cell_type": "code",
   "execution_count": null,
   "metadata": {
    "colab": {
     "base_uri": "https://localhost:8080/"
    },
    "id": "gwhJevmHf2N4",
    "outputId": "fe4e0252-7762-4d7f-ab30-c7dbb87b3dc5"
   },
   "outputs": [
    {
     "name": "stdout",
     "output_type": "stream",
     "text": [
      "Error Absoluto Medio (MAE) - Random Forest: 52.801408582089564\n",
      "Error Cuadrático Medio (MSE) - Random Forest: 5734.7246146175385\n",
      "Raíz del Error Cuadrático Medio (RMSE) - Random Forest: 75.72796454822709\n"
     ]
    }
   ],
   "source": [
    "from sklearn.ensemble import RandomForestRegressor\n",
    "\n",
    "# Crear el modelo de Random Forest\n",
    "rf = RandomForestRegressor(n_estimators=200, random_state=42)\n",
    "\n",
    "# Ajustar el modelo con los datos de entrenamiento\n",
    "rf.fit(X_train_pca, y_train)\n",
    "\n",
    "# Hacer predicciones con los datos de prueba\n",
    "y_pred_rf = rf.predict(X_test_pca)\n",
    "\n",
    "# Evaluar el modelo usando MAE\n",
    "mae_rf = mean_absolute_error(y_test, y_pred_rf)\n",
    "print(f\"Error Absoluto Medio (MAE) - Random Forest: {mae_rf}\")\n",
    "\n",
    "# Evaluar el modelo usando MSE\n",
    "mse_rf = mean_squared_error(y_test, y_pred_rf)\n",
    "print(f\"Error Cuadrático Medio (MSE) - Random Forest: {mse_rf}\")\n",
    "\n",
    "# Evaluar el modelo usando RMSE\n",
    "rmse_rf = np.sqrt(mse_rf)\n",
    "print(f\"Raíz del Error Cuadrático Medio (RMSE) - Random Forest: {rmse_rf}\")\n"
   ]
  },
  {
   "cell_type": "markdown",
   "metadata": {
    "id": "PAOxK9KMkkQ4"
   },
   "source": [
    "# Grid Search"
   ]
  },
  {
   "cell_type": "code",
   "execution_count": null,
   "metadata": {
    "colab": {
     "base_uri": "https://localhost:8080/"
    },
    "id": "R0_UelWHklsR",
    "outputId": "44fa2c4c-b8ca-460b-faf4-7e569a3202c0"
   },
   "outputs": [
    {
     "name": "stdout",
     "output_type": "stream",
     "text": [
      "Fitting 3 folds for each of 81 candidates, totalling 243 fits\n"
     ]
    }
   ],
   "source": [
    "# Definir el modelo base\n",
    "rf = RandomForestRegressor(random_state=42)\n",
    "\n",
    "# Definir el grid de hiperparámetros\n",
    "param_grid = {\n",
    "    'n_estimators': [50, 100, 200],\n",
    "    'max_depth': [10, 20, None],\n",
    "    'min_samples_split': [2, 5, 10],\n",
    "    'min_samples_leaf': [1, 2, 4]\n",
    "}\n",
    "\n",
    "# Configurar el GridSearchCV\n",
    "grid_search = GridSearchCV(\n",
    "    estimator=rf,\n",
    "    param_grid=param_grid,\n",
    "    cv=3,  # Validación cruzada de 3 folds\n",
    "    scoring='neg_mean_squared_error',  # Optimizar MSE\n",
    "    verbose=2,\n",
    "    n_jobs=-1  # Usar todos los núcleos disponibles\n",
    ")\n",
    "\n",
    "# Ajustar el Grid Search a los datos\n",
    "grid_search.fit(X_train_pca, y_train)\n",
    "\n",
    "# Mejor modelo encontrado\n",
    "best_rf = grid_search.best_estimator_\n",
    "\n",
    "# Evaluar el mejor modelo en el conjunto de prueba\n",
    "y_pred_best_rf = best_rf.predict(X_test_pca)\n",
    "mse_best_rf = mean_squared_error(y_test, y_pred_best_rf)\n",
    "rmse_best_rf = np.sqrt(mse_best_rf)\n",
    "\n",
    "print(f\"Mejor combinación de hiperparámetros: {grid_search.best_params_}\")\n",
    "print(f\"RMSE del mejor modelo: {rmse_best_rf}\")\n"
   ]
  }
 ],
 "metadata": {
  "colab": {
   "provenance": []
  },
  "kernelspec": {
   "display_name": "Python 3",
   "name": "python3"
  },
  "language_info": {
   "name": "python"
  }
 },
 "nbformat": 4,
 "nbformat_minor": 0
}
